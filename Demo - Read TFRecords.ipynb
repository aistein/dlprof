{
 "cells": [
  {
   "cell_type": "markdown",
   "metadata": {},
   "source": [
    "# Reading TFRecords\n",
    "\n",
    "\n",
    "Our TFRecords have 3 fields:\n",
    "1. user_reviews - all of the user reviews concatenated and converted using the word_2_idx dictionary to integers\n",
    "2. item_reviews - all of the item reviews concatenated and converted using the word_2_idx dictionary to integers\n",
    "3. rating - The rating that user gave that item"
   ]
  },
  {
   "cell_type": "code",
   "execution_count": 1,
   "metadata": {},
   "outputs": [
    {
     "name": "stderr",
     "output_type": "stream",
     "text": [
      "/home/ubuntu/miniconda3/envs/venv/lib/python3.6/site-packages/h5py/__init__.py:36: FutureWarning: Conversion of the second argument of issubdtype from `float` to `np.floating` is deprecated. In future, it will be treated as `np.float64 == np.dtype(float).type`.\n",
      "  from ._conv import register_converters as _register_converters\n"
     ]
    }
   ],
   "source": [
    "import tensorflow as tf"
   ]
  },
  {
   "cell_type": "code",
   "execution_count": 46,
   "metadata": {},
   "outputs": [],
   "source": [
    "def get_pad_fn(max_len, fill_val):\n",
    "    def pad_and_slice(tensor):\n",
    "        padded_vec = tf.pad(tensor, [[0, max_len]], constant_values=tf.constant(fill_val, tf.int64))\n",
    "        return tf.slice(padded_vec, [0], [max_len])\n",
    "    return pad_and_slice\n",
    "\n",
    "def get_parse_fn(pad_fn):\n",
    "    def parse_fn(record):\n",
    "        features = {\n",
    "                \"user_review\": tf.FixedLenSequenceFeature([], tf.int64, allow_missing=True),\n",
    "                \"item_review\": tf.FixedLenSequenceFeature([], tf.int64, allow_missing=True),\n",
    "                \"rating\": tf.FixedLenFeature([1], tf.float32)\n",
    "            }\n",
    "        parsed_features = tf.parse_single_example(record, features)\n",
    "        return pad_fn(parsed_features[\"user_review\"]), pad_fn(parsed_features[\"item_review\"]), parsed_features[\"rating\"]\n",
    "    return parse_fn"
   ]
  },
  {
   "cell_type": "code",
   "execution_count": 47,
   "metadata": {},
   "outputs": [
    {
     "data": {
      "text/plain": [
       "array([[32238, 16868, 56211, ...,    -1,    -1,    -1],\n",
       "       [ 9094, 17991, 47869, ...,    -1,    -1,    -1],\n",
       "       [32238, 50351,  9094, ...,    -1,    -1,    -1],\n",
       "       ...,\n",
       "       [51169, 48041, 29945, ...,    -1,    -1,    -1],\n",
       "       [49920, 19882, 37611, ..., 47629, 35047, 12302],\n",
       "       [ 5663, 15128,  8785, ...,    -1,    -1,    -1]])"
      ]
     },
     "execution_count": 47,
     "metadata": {},
     "output_type": "execute_result"
    }
   ],
   "source": [
    "dataset = tf.data.TFRecordDataset(\"data/train.tfrecords\")\n",
    "dataset = dataset.map(get_parse_fn(get_pad_fn(400, -1)))\n",
    "dataset = dataset.batch(16)\n",
    "iterator = dataset.make_one_shot_iterator()\n",
    "data_point = iterator.get_next()\n",
    "data_point[0].eval(session=tf.Session())"
   ]
  }
 ],
 "metadata": {
  "kernelspec": {
   "display_name": "Python 3",
   "language": "python",
   "name": "python3"
  },
  "language_info": {
   "codemirror_mode": {
    "name": "ipython",
    "version": 3
   },
   "file_extension": ".py",
   "mimetype": "text/x-python",
   "name": "python",
   "nbconvert_exporter": "python",
   "pygments_lexer": "ipython3",
   "version": "3.6.5"
  }
 },
 "nbformat": 4,
 "nbformat_minor": 2
}
