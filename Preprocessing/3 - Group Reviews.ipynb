{
 "cells": [
  {
   "cell_type": "code",
   "execution_count": 1,
   "metadata": {},
   "outputs": [],
   "source": [
    "import json\n",
    "import pandas as pd\n",
    "import numpy as np\n",
    "from time import time\n",
    "\n",
    "\n",
    "data = pd.read_csv(\"../data/cleaned_reviews.csv\").drop(\"Unnamed: 0\", axis=1)\n",
    "\n",
    "def add_user_reviews(x):\n",
    "    ur = user_reviews.loc[x[\"reviewerID\"]].drop(x[\"asin\"]).values.tolist()\n",
    "    mr = movie_reviews.loc[x[\"asin\"]].drop(x[\"reviewerID\"]).values.tolist()\n",
    "    x[\"userReviews\"] = \" \".join(list(map(lambda x: x[0], ur)))\n",
    "    x[\"movieReviews\"] = \" \".join(list(map(lambda x: x[0], mr)))\n",
    "    return x"
   ]
  },
  {
   "cell_type": "code",
   "execution_count": 2,
   "metadata": {},
   "outputs": [],
   "source": [
    "user_item_review = data.drop(\"reviewText\", axis=1)\n",
    "user_reviews = pd.pivot_table(data,\n",
    "                              index=[\"reviewerID\", \"asin\"],\n",
    "                              aggfunc=lambda x: x).drop(\"overall\", axis=1)\n",
    "    \n",
    "movie_reviews = pd.pivot_table(data,\n",
    "                               index=[\"asin\", \"reviewerID\"],\n",
    "                               aggfunc=lambda x: x).drop(\"overall\", axis=1)"
   ]
  },
  {
   "cell_type": "code",
   "execution_count": 3,
   "metadata": {},
   "outputs": [
    {
     "name": "stdout",
     "output_type": "stream",
     "text": [
      "took 0 days 00:02:05\n"
     ]
    }
   ],
   "source": [
    "s = pd.Timestamp(int(time()), unit=\"s\")\n",
    "grouped_cleaned_data = user_item_review.apply(add_user_reviews, axis=1)\n",
    "e = pd.Timestamp(int(time()), unit=\"s\")\n",
    "print(\"took {}\".format(e - s))"
   ]
  },
  {
   "cell_type": "code",
   "execution_count": 4,
   "metadata": {},
   "outputs": [
    {
     "data": {
      "text/html": [
       "<div>\n",
       "<style scoped>\n",
       "    .dataframe tbody tr th:only-of-type {\n",
       "        vertical-align: middle;\n",
       "    }\n",
       "\n",
       "    .dataframe tbody tr th {\n",
       "        vertical-align: top;\n",
       "    }\n",
       "\n",
       "    .dataframe thead th {\n",
       "        text-align: right;\n",
       "    }\n",
       "</style>\n",
       "<table border=\"1\" class=\"dataframe\">\n",
       "  <thead>\n",
       "    <tr style=\"text-align: right;\">\n",
       "      <th></th>\n",
       "      <th>reviewerID</th>\n",
       "      <th>asin</th>\n",
       "      <th>overall</th>\n",
       "      <th>userReviews</th>\n",
       "      <th>movieReviews</th>\n",
       "    </tr>\n",
       "  </thead>\n",
       "  <tbody>\n",
       "    <tr>\n",
       "      <th>0</th>\n",
       "      <td>A11N155CW1UV02</td>\n",
       "      <td>B000H00VBQ</td>\n",
       "      <td>2.0</td>\n",
       "      <td>['i', 'really', 'like', 'the', 'characters', '...</td>\n",
       "      <td>['this', 'show', 'always', 'is', 'excellent', ...</td>\n",
       "    </tr>\n",
       "    <tr>\n",
       "      <th>1</th>\n",
       "      <td>A3BC8O2KCL29V2</td>\n",
       "      <td>B000H00VBQ</td>\n",
       "      <td>5.0</td>\n",
       "      <td>['this', 'is', 'one', 'good', 'show', 'it', 'i...</td>\n",
       "      <td>['i', 'had', 'big', 'expectations', 'because',...</td>\n",
       "    </tr>\n",
       "    <tr>\n",
       "      <th>2</th>\n",
       "      <td>A60D5HQFOTSOM</td>\n",
       "      <td>B000H00VBQ</td>\n",
       "      <td>1.0</td>\n",
       "      <td>['i', 'watched', 'this', 'a', 'couple', 'of', ...</td>\n",
       "      <td>['i', 'had', 'big', 'expectations', 'because',...</td>\n",
       "    </tr>\n",
       "    <tr>\n",
       "      <th>3</th>\n",
       "      <td>A1RJPIGRSNX4PW</td>\n",
       "      <td>B000H00VBQ</td>\n",
       "      <td>4.0</td>\n",
       "      <td>['the', 'acting', 'was', 'excellent', 'the', '...</td>\n",
       "      <td>['i', 'had', 'big', 'expectations', 'because',...</td>\n",
       "    </tr>\n",
       "    <tr>\n",
       "      <th>4</th>\n",
       "      <td>A16XRPF40679KG</td>\n",
       "      <td>B000H00VBQ</td>\n",
       "      <td>5.0</td>\n",
       "      <td>['as', 'many', 'people', 'said', 'this', 'show...</td>\n",
       "      <td>['i', 'had', 'big', 'expectations', 'because',...</td>\n",
       "    </tr>\n",
       "  </tbody>\n",
       "</table>\n",
       "</div>"
      ],
      "text/plain": [
       "       reviewerID        asin  overall  \\\n",
       "0  A11N155CW1UV02  B000H00VBQ      2.0   \n",
       "1  A3BC8O2KCL29V2  B000H00VBQ      5.0   \n",
       "2   A60D5HQFOTSOM  B000H00VBQ      1.0   \n",
       "3  A1RJPIGRSNX4PW  B000H00VBQ      4.0   \n",
       "4  A16XRPF40679KG  B000H00VBQ      5.0   \n",
       "\n",
       "                                         userReviews  \\\n",
       "0  ['i', 'really', 'like', 'the', 'characters', '...   \n",
       "1  ['this', 'is', 'one', 'good', 'show', 'it', 'i...   \n",
       "2  ['i', 'watched', 'this', 'a', 'couple', 'of', ...   \n",
       "3  ['the', 'acting', 'was', 'excellent', 'the', '...   \n",
       "4  ['as', 'many', 'people', 'said', 'this', 'show...   \n",
       "\n",
       "                                        movieReviews  \n",
       "0  ['this', 'show', 'always', 'is', 'excellent', ...  \n",
       "1  ['i', 'had', 'big', 'expectations', 'because',...  \n",
       "2  ['i', 'had', 'big', 'expectations', 'because',...  \n",
       "3  ['i', 'had', 'big', 'expectations', 'because',...  \n",
       "4  ['i', 'had', 'big', 'expectations', 'because',...  "
      ]
     },
     "execution_count": 4,
     "metadata": {},
     "output_type": "execute_result"
    }
   ],
   "source": [
    "grouped_cleaned_data.head()"
   ]
  },
  {
   "cell_type": "code",
   "execution_count": 5,
   "metadata": {},
   "outputs": [],
   "source": [
    "grouped_cleaned_data.to_csv(\"../data/unembedded_grouped_cleaned_data.csv\")"
   ]
  }
 ],
 "metadata": {
  "kernelspec": {
   "display_name": "Python 3",
   "language": "python",
   "name": "python3"
  },
  "language_info": {
   "codemirror_mode": {
    "name": "ipython",
    "version": 3
   },
   "file_extension": ".py",
   "mimetype": "text/x-python",
   "name": "python",
   "nbconvert_exporter": "python",
   "pygments_lexer": "ipython3",
   "version": "3.6.5"
  }
 },
 "nbformat": 4,
 "nbformat_minor": 2
}
