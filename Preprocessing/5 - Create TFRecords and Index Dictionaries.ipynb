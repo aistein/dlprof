{
 "cells": [
  {
   "cell_type": "code",
   "execution_count": 2,
   "metadata": {},
   "outputs": [
    {
     "name": "stderr",
     "output_type": "stream",
     "text": [
      "/home/ubuntu/miniconda3/envs/venv/lib/python3.6/site-packages/h5py/__init__.py:36: FutureWarning: Conversion of the second argument of issubdtype from `float` to `np.floating` is deprecated. In future, it will be treated as `np.float64 == np.dtype(float).type`.\n",
      "  from ._conv import register_converters as _register_converters\n",
      "Using TensorFlow backend.\n"
     ]
    }
   ],
   "source": [
    "import pickle as pkl\n",
    "import tensorflow as tf\n",
    "from keras.preprocessing.text import text_to_word_sequence"
   ]
  },
  {
   "cell_type": "code",
   "execution_count": 3,
   "metadata": {},
   "outputs": [],
   "source": [
    "fnames = [\n",
    "    \"../data/train_u_reviews.txt\",\n",
    "    \"../data/train_i_reviews.txt\",\n",
    "    \"../data/test_u_reviews.txt\",\n",
    "    \"../data/test_i_reviews.txt\",\n",
    "    \"../data/train_ratings.txt\",\n",
    "    \"../data/test_ratings.txt\"\n",
    "]"
   ]
  },
  {
   "cell_type": "code",
   "execution_count": 4,
   "metadata": {},
   "outputs": [],
   "source": [
    "def get_lines(fname):\n",
    "    with open(fname, \"rt\") as f:\n",
    "        return f.read().splitlines()"
   ]
  },
  {
   "cell_type": "code",
   "execution_count": 5,
   "metadata": {},
   "outputs": [],
   "source": [
    "data = [get_lines(fname) for fname in fnames]"
   ]
  },
  {
   "cell_type": "code",
   "execution_count": 6,
   "metadata": {},
   "outputs": [],
   "source": [
    "def clean(text):\n",
    "    return text_to_word_sequence(text,\n",
    "                                 filters='!\"#$%&()*+,-./:;<=>?@[\\\\]^_`{|}~\\t\\n',\n",
    "                                 lower=True, split=\" \")\n"
   ]
  },
  {
   "cell_type": "code",
   "execution_count": 7,
   "metadata": {},
   "outputs": [],
   "source": [
    "def wrap_float_value(value):\n",
    "    return tf.train.Feature(float_list=tf.train.FloatList(value=[value]))\n",
    "def wrap_int_list(values):\n",
    "    return tf.train.Feature(int64_list=tf.train.Int64List(value=values))"
   ]
  },
  {
   "cell_type": "code",
   "execution_count": 8,
   "metadata": {},
   "outputs": [],
   "source": [
    "with open(\"../data/dictionary.pkl\", \"rb\") as dat:\n",
    "    dictionary = pkl.load(dat)"
   ]
  },
  {
   "cell_type": "code",
   "execution_count": 9,
   "metadata": {},
   "outputs": [],
   "source": [
    "word_2_idx = {word: idx for idx, word in enumerate(dictionary)}\n",
    "word_2_idx[\"UNK\"] = len(dictionary)\n",
    "idx_2_word = {word_2_idx[word]: word for word in word_2_idx}"
   ]
  },
  {
   "cell_type": "code",
   "execution_count": 10,
   "metadata": {},
   "outputs": [],
   "source": [
    "with open(\"../data/word_2_idx.pkl\", \"wb\") as w2i:\n",
    "    pkl.dump(word_2_idx, w2i)\n",
    "with open(\"../data/idx_2_word.pkl\", \"wb\") as i2w:\n",
    "    pkl.dump(idx_2_word, i2w)"
   ]
  },
  {
   "cell_type": "code",
   "execution_count": 11,
   "metadata": {},
   "outputs": [],
   "source": [
    "tfrecords_filename = \"../data/train.tfrecords\"\n",
    "writer = tf.python_io.TFRecordWriter(tfrecords_filename)\n",
    "\n",
    "for u_review, i_review, rating in zip(data[0], data[1], data[4]):\n",
    "    example = tf.train.Example(\n",
    "        features=tf.train.Features(\n",
    "            feature={\n",
    "                'user_review': wrap_int_list([word_2_idx[word] for word in u_review.split()]),\n",
    "                'item_review': wrap_int_list([word_2_idx[word] for word in i_review.split()]),\n",
    "                'rating': wrap_float_value(float(rating))\n",
    "            }\n",
    "        )\n",
    "    )\n",
    "    \n",
    "    writer.write(example.SerializeToString())"
   ]
  },
  {
   "cell_type": "code",
   "execution_count": 12,
   "metadata": {},
   "outputs": [],
   "source": [
    "tfrecords_filename = \"../data/test.tfrecords\"\n",
    "writer = tf.python_io.TFRecordWriter(tfrecords_filename)\n",
    "\n",
    "for u_review, i_review, rating in zip(data[2], data[3], data[5]):\n",
    "    example = tf.train.Example(\n",
    "        features=tf.train.Features(\n",
    "            feature={\n",
    "                'user_review': wrap_int_list([word_2_idx[word] for word in u_review.split()]),\n",
    "                'item_review': wrap_int_list([word_2_idx[word] for word in i_review.split()]),\n",
    "                'rating': wrap_float_value(float(rating))\n",
    "            }\n",
    "        )\n",
    "    )\n",
    "    \n",
    "    writer.write(example.SerializeToString())"
   ]
  }
 ],
 "metadata": {
  "kernelspec": {
   "display_name": "Python 3",
   "language": "python",
   "name": "python3"
  },
  "language_info": {
   "codemirror_mode": {
    "name": "ipython",
    "version": 3
   },
   "file_extension": ".py",
   "mimetype": "text/x-python",
   "name": "python",
   "nbconvert_exporter": "python",
   "pygments_lexer": "ipython3",
   "version": "3.6.5"
  }
 },
 "nbformat": 4,
 "nbformat_minor": 2
}
