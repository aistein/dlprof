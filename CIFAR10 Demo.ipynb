{
 "cells": [
  {
   "cell_type": "code",
   "execution_count": 1,
   "metadata": {},
   "outputs": [],
   "source": [
    "import numpy as np\n",
    "from pathlib import Path\n",
    "import pandas as pd\n",
    "import time\n",
    "import tensorflow as tf\n",
    "from tensorflow.python import debug as tf_debug\n",
    "from utils import download, extract, get_cifar10_batches, get_cifar10_test_batch\n",
    "tf.set_random_seed(42)"
   ]
  },
  {
   "cell_type": "code",
   "execution_count": 2,
   "metadata": {},
   "outputs": [],
   "source": [
    "cifar_10_download = Path(\"data/cifar-10-python.tar.gz\")\n",
    "if not cifar_10_download.exists():\n",
    "    download(\"https://www.cs.toronto.edu/~kriz/cifar-10-python.tar.gz\", cifar_10_download)"
   ]
  },
  {
   "cell_type": "code",
   "execution_count": 3,
   "metadata": {},
   "outputs": [],
   "source": [
    "def if_not_exists_make(path):\n",
    "    p = Path(path)\n",
    "    if not p.exists():\n",
    "        p.mkdir()\n",
    "    return p\n",
    "extract_loc = Path(\"data/cifar-10-batches-py\")\n",
    "if not extract_loc.exists():\n",
    "    extract(cifar_10_download)\n",
    "log_dir = if_not_exists_make(\"logs\")\n",
    "train_logs = if_not_exists_make(\"logs/train_\" + str(int(time.time())))\n",
    "test_logs = if_not_exists_make(\"logs/test_\" + str(int(time.time())))"
   ]
  },
  {
   "cell_type": "code",
   "execution_count": 4,
   "metadata": {},
   "outputs": [],
   "source": [
    "batches = get_cifar10_batches()\n",
    "test_batch = get_cifar10_test_batch()"
   ]
  },
  {
   "cell_type": "code",
   "execution_count": 5,
   "metadata": {},
   "outputs": [],
   "source": [
    "n_epochs = 10\n",
    "batch_size = 1\n",
    "n = 32\n",
    "n_channels = 3\n",
    "n_samples = batches.shape[0]"
   ]
  },
  {
   "cell_type": "code",
   "execution_count": 6,
   "metadata": {},
   "outputs": [],
   "source": [
    "inp = tf.placeholder(tf.float32, [batch_size, n, n, n_channels], name=\"x_input\")\n",
    "category = tf.placeholder(tf.int32, [batch_size, 1], name=\"y_input\")\n",
    "\n",
    "conv1 = tf.layers.conv2d(\n",
    "    inputs=inp,\n",
    "    filters=32,\n",
    "    kernel_size=[5, 5],\n",
    "    padding=\"same\",\n",
    "    activation=tf.nn.relu,\n",
    "    name=\"conv_1\")\n",
    "pool1 = tf.layers.max_pooling2d(inputs=conv1, pool_size=[2, 2], strides=2, name=\"max_pool_1\")\n",
    "\n",
    "# Convolutional Layer #2 and Pooling Layer #2\n",
    "conv2 = tf.layers.conv2d(\n",
    "    inputs=pool1,\n",
    "    filters=64,\n",
    "    kernel_size=[5, 5],\n",
    "    padding=\"same\",\n",
    "    activation=tf.nn.relu,\n",
    "    name=\"conv_2\")\n",
    "pool2 = tf.layers.max_pooling2d(inputs=conv2, pool_size=[2, 2], strides=2, name=\"max_pool_2\")\n",
    "\n",
    "# Dense Layer\n",
    "pool2_flat = tf.reshape(pool2, [-1, 8 * 8 * 64], name=\"flatten\")\n",
    "dense = tf.layers.dense(inputs=pool2_flat, units=1024, activation=tf.nn.relu, name=\"dense_1\")\n",
    "dropout = tf.layers.dropout(inputs=dense, rate=0.4, name=\"dropout\")\n",
    "\n",
    "# Logits Layer\n",
    "logits = tf.layers.dense(inputs=dropout, units=10, name=\"logits\")\n",
    "\n",
    "global_step = tf.Variable(0, trainable=False, name=\"step\")\n",
    "\n",
    "learning_rate = tf.train.exponential_decay(0.1, global_step, 10, 0.95, name=\"learning_rate\")\n",
    "\n",
    "loss = tf.losses.sparse_softmax_cross_entropy(labels=category, logits=logits)\n",
    "optimizer = tf.train.GradientDescentOptimizer(learning_rate, name=\"optimizer\")\n",
    "train_op = optimizer.minimize(loss=loss, global_step=global_step, name=\"training_op\")"
   ]
  },
  {
   "cell_type": "code",
   "execution_count": 7,
   "metadata": {},
   "outputs": [],
   "source": [
    "train_writer = tf.summary.FileWriter(str(train_logs), graph=tf.get_default_graph())\n",
    "\n",
    "tf.summary.scalar(\"learning_rate\", learning_rate)\n",
    "tf.summary.scalar(\"loss\", loss)\n",
    "tf.summary.histogram(\"dense\", dense)\n",
    "tf.summary.histogram(\"conv2\", conv2)\n",
    "merged = tf.summary.merge_all()\n",
    "run_options = tf.RunOptions(trace_level=tf.RunOptions.FULL_TRACE)\n",
    "run_metadata = tf.RunMetadata()"
   ]
  },
  {
   "cell_type": "code",
   "execution_count": null,
   "metadata": {},
   "outputs": [
    {
     "name": "stderr",
     "output_type": "stream",
     "text": [
      "4 ops no flops stats due to incomplete shapes.\n"
     ]
    }
   ],
   "source": [
    "with tf.Session() as sess:\n",
    "    sess.run(tf.global_variables_initializer())\n",
    "    sess = tf_debug.TensorBoardDebugWrapperSession(sess, \"localhost:9090\")\n",
    "    for ite in range(n_samples // batch_size):\n",
    "        batch = batches.sample(n=batch_size)\n",
    "        x, y = batch[1], batch[0]\n",
    "        l, _, summary = sess.run([loss, train_op, merged], feed_dict={inp: np.stack(list(x)).reshape([batch_size, n, n, n_channels]), category: np.stack(list(y)).reshape([batch_size, 1])})\n",
    "        train_writer.add_summary(summary, global_step=ite)\n",
    "        this_test_batch = test_batch.sample(n=batch_size)\n",
    "        test_x, test_y = this_test_batch[1], this_test_batch[0]\n",
    "        t_l = sess.run([loss],\n",
    "                       feed_dict={inp: np.stack(list(test_x)).reshape([batch_size, n, n, n_channels]), category: np.stack(list(test_y)).reshape([batch_size, 1])},\n",
    "                      options=run_options,\n",
    "                      run_metadata=run_metadata)\n",
    "        train_writer.add_run_metadata(run_metadata, 'step%d' % ite)\n",
    "        if ite % 20 == 0 and ite is not 0:\n",
    "            print(\"iter: {}, train loss: {:.2f}, test loss: {}\".format(ite, l, t_l))\n",
    "        if ite == 200:\n",
    "            break"
   ]
  }
 ],
 "metadata": {
  "kernelspec": {
   "display_name": "Python 3",
   "language": "python",
   "name": "python3"
  },
  "language_info": {
   "codemirror_mode": {
    "name": "ipython",
    "version": 3
   },
   "file_extension": ".py",
   "mimetype": "text/x-python",
   "name": "python",
   "nbconvert_exporter": "python",
   "pygments_lexer": "ipython3",
   "version": "3.6.4"
  }
 },
 "nbformat": 4,
 "nbformat_minor": 2
}
