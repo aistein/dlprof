{
 "cells": [
  {
   "cell_type": "code",
   "execution_count": 1,
   "metadata": {},
   "outputs": [],
   "source": [
    "import tensorflow as tf"
   ]
  },
  {
   "cell_type": "code",
   "execution_count": 2,
   "metadata": {},
   "outputs": [],
   "source": [
    "def get_lines(fname):\n",
    "    with open(fname, \"rt\") as f:\n",
    "        return f.read().splitlines()"
   ]
  },
  {
   "cell_type": "code",
   "execution_count": 3,
   "metadata": {},
   "outputs": [],
   "source": [
    "def to_bytearray_feature(value):\n",
    "    return tf.train.Feature(bytes_list=tf.train.BytesList(value=[bytes(value, \"utf8\")]))\n",
    "def wrap_float_value(value):\n",
    "    return tf.train.Feature(float_list=tf.train.FloatList(value=[value]))"
   ]
  },
  {
   "cell_type": "code",
   "execution_count": 4,
   "metadata": {},
   "outputs": [],
   "source": [
    "def create_tfrecord(fname, user_lines, item_lines, ratings):\n",
    "    tfrecords_filename = fname\n",
    "    writer = tf.python_io.TFRecordWriter(tfrecords_filename)\n",
    "\n",
    "    for user, item, rating in zip(train_user_lines, train_item_lines, train_ratings):\n",
    "        example = tf.train.Example(\n",
    "            features=tf.train.Features(\n",
    "                feature={\n",
    "                    'user_review': to_bytearray_feature(user),\n",
    "                    'item_review': to_bytearray_feature(item),\n",
    "                    'rating': wrap_float_value(float(rating))\n",
    "                }\n",
    "            )\n",
    "        )\n",
    "\n",
    "        writer.write(example.SerializeToString())"
   ]
  },
  {
   "cell_type": "code",
   "execution_count": 5,
   "metadata": {},
   "outputs": [],
   "source": [
    "train_user_lines = get_lines(\"../data/train_u_reviews.txt\")\n",
    "train_item_lines = get_lines(\"../data/train_i_reviews.txt\")\n",
    "train_ratings = get_lines(\"../data/train_ratings.txt\")"
   ]
  },
  {
   "cell_type": "code",
   "execution_count": 6,
   "metadata": {},
   "outputs": [],
   "source": [
    "create_tfrecord(\"../data/train.tfrecords\", train_user_lines, train_item_lines, train_ratings)"
   ]
  },
  {
   "cell_type": "code",
   "execution_count": 7,
   "metadata": {},
   "outputs": [],
   "source": [
    "test_user_lines = get_lines(\"../data/test_u_reviews.txt\")\n",
    "test_item_lines = get_lines(\"../data/test_i_reviews.txt\")\n",
    "test_ratings = get_lines(\"../data/test_ratings.txt\")"
   ]
  },
  {
   "cell_type": "code",
   "execution_count": 9,
   "metadata": {},
   "outputs": [],
   "source": [
    "create_tfrecord(\"../data/test.tfrecords\", test_user_lines, test_item_lines, test_ratings)"
   ]
  },
  {
   "cell_type": "code",
   "execution_count": null,
   "metadata": {},
   "outputs": [],
   "source": []
  }
 ],
 "metadata": {
  "kernelspec": {
   "display_name": "Python 3",
   "language": "python",
   "name": "python3"
  },
  "language_info": {
   "codemirror_mode": {
    "name": "ipython",
    "version": 3
   },
   "file_extension": ".py",
   "mimetype": "text/x-python",
   "name": "python",
   "nbconvert_exporter": "python",
   "pygments_lexer": "ipython3",
   "version": "3.6.5"
  }
 },
 "nbformat": 4,
 "nbformat_minor": 2
}
