{
 "cells": [
  {
   "cell_type": "markdown",
   "metadata": {},
   "source": [
    "# Laboratory 2 : Computer Vision\n",
    "\n",
    "# Part 1: MNIST Digist Classification\n",
    "\n",
    "In the first portion of this lab, we will build and train a convolutional neural network (CNN) for classification of handwritten digits from the famous [MNIST](http://yann.lecun.com/exdb/mnist/) dataset. Our classes are the digits 0-9.\n",
    "\n",
    "We'll use the [`InteractiveSession`](https://www.tensorflow.org/api_docs/python/tf/InteractiveSession) class to make debugging easier, since it does not require TensorFlow to build a complete computation graph before testing the code."
   ]
  },
  {
   "cell_type": "code",
   "execution_count": null,
   "metadata": {},
   "outputs": [],
   "source": [
    "import tensorflow as tf\n",
    "import matplotlib.pyplot as plt\n",
    "import numpy as np\n",
    "import tqdm\n",
    "import random\n",
    "\n",
    "sess = tf.InteractiveSession()"
   ]
  },
  {
   "cell_type": "markdown",
   "metadata": {},
   "source": [
    "## 1.1 MNIST Dataset \n",
    "\n",
    "We first download and load the dataset and display a few random samples from it."
   ]
  },
  {
   "cell_type": "code",
   "execution_count": null,
   "metadata": {},
   "outputs": [],
   "source": [
    "from tensorflow.examples.tutorials.mnist import input_data\n",
    "mnist = input_data.read_data_sets('MNIST_data', one_hot=True)"
   ]
  },
  {
   "cell_type": "code",
   "execution_count": null,
   "metadata": {
    "scrolled": true
   },
   "outputs": [],
   "source": [
    "random_indices = [random.randint(0,50000) for x in range(5)]\n",
    "\n",
    "for i in range(4):\n",
    "    plt.subplot(1,4,i+1)\n",
    "    plt.imshow((mnist.train._images[random_indices[i]].reshape(28,28)))\n",
    "    plt.xticks([]) \n",
    "    plt.yticks([])"
   ]
  },
  {
   "cell_type": "markdown",
   "metadata": {},
   "source": [
    "We define placeholders for our input data `x` and the corresponding labels `y`:"
   ]
  },
  {
   "cell_type": "code",
   "execution_count": null,
   "metadata": {},
   "outputs": [],
   "source": [
    "# placeholders for data (x) and labels (y)\n",
    "x = tf.placeholder(tf.float32, shape=[None, 784])\n",
    "y = tf.placeholder(tf.float32, shape=[None, 10])"
   ]
  },
  {
   "cell_type": "markdown",
   "metadata": {},
   "source": [
    "## 1.2 CNN for Handwritten Digit Classification\n",
    "\n",
    "We will build a CNN composed of two convolutional and pooling layers, followed by two fully connected layers, and ultimately output a probability distribution over the 10 digit classes (0-9). The CNN we will be building is depicted below.\n",
    "\n",
    "![alt_text](img/mnist_model.png \"CNN Architecture for MNIST Classification\")"
   ]
  },
  {
   "cell_type": "markdown",
   "metadata": {},
   "source": [
    "First, we must [reshape](https://www.tensorflow.org/api_docs/python/tf/reshape) our input from a 784-dimensional input to a 4-D blob that preserves the spatial nature of the image. "
   ]
  },
  {
   "cell_type": "code",
   "execution_count": null,
   "metadata": {},
   "outputs": [],
   "source": [
    "x_input = tf.reshape(x, [-1, 28, 28, 1])"
   ]
  },
  {
   "cell_type": "markdown",
   "metadata": {},
   "source": [
    "Note how we assign the special value of -1 to the first component of the shape. This means that the size of that dimension is computed so that the total size (number of dimensions of the input, 784 in this case) remains constant.\n",
    "\n",
    "### 1.2.1 CNN Architecture\n",
    "Now we can start defining the architecture of our CNN using the [`tf.layers`](https://www.tensorflow.org/api_docs/python/tf/layers) API:"
   ]
  },
  {
   "cell_type": "code",
   "execution_count": null,
   "metadata": {
    "scrolled": true
   },
   "outputs": [],
   "source": [
    "# first convolutional layer\n",
    "# 32 5x5 filters with stride of 1, ReLU activation\n",
    "conv1 = tf.layers.conv2d(inputs=x_input, filters=32, kernel_size=[5,5], activation=tf.nn.relu)\n",
    "# first pooling layer\n",
    "# 2x2 max pooling with stride of 2\n",
    "pool1 = tf.layers.max_pooling2d(inputs=conv1, pool_size=[2,2], strides=[2,2])"
   ]
  },
  {
   "cell_type": "code",
   "execution_count": null,
   "metadata": {},
   "outputs": [],
   "source": [
    "# second convolutional layer\n",
    "'''TODO: define a convolutional layer with 48 5x5 filters with stride of 1, ReLU activation'''\n",
    "conv2 = tf.layers.conv2d(inputs=pool1, filters=48, kernel_size=[5,5], activation=tf.nn.relu)\n",
    "# second pooling layer\n",
    "'''TODO: define a 2x2 max pooling layer with stride of 2'''\n",
    "pool2 = tf.layers.max_pooling2d(inputs=conv2, pool_size=[2,2], strides=[2,2])"
   ]
  },
  {
   "cell_type": "markdown",
   "metadata": {},
   "source": [
    "We've used the [`tf.layers`](https://www.tensorflow.org/api_docs/python/tf/layers) API to build convolutional layers for feature extraction. Now, we can define fully connected layers to complete the handwritten digit classification task. \n",
    "\n",
    "Let's take a step back and consider the dimensionality of the output of the last max pooling operation. The number of nodes in a feature map after a convolution or pooling operation is given by:<br><br>\n",
    "$$\n",
    "n = \\Big(\\frac{(d-i+2p)}{s}+1\\Big) \\times \\Big(\\frac{(d-i+2p)}{s}+1\\Big)\n",
    "$$\n",
    "<br><br>\n",
    "where $d$ is the dimension of the input to that layer, $i$ is the dimension of the filter we apply, $p$ is the padding, and $s$ is the stride. In our case, $p=0$. For convolutional layers, $i=5, s=1$, and for pooling layers, $i=2, s=2$. It is a useful exercise to go through these calculations:"
   ]
  },
  {
   "cell_type": "code",
   "execution_count": null,
   "metadata": {},
   "outputs": [],
   "source": [
    "'''TODO: Determine the dimensionality of the feature maps after each convolution and max pooling operation'''\n",
    "# Conv layer 1: 24x24 nodes per feature map, 32 feature maps\n",
    "# Max pooling 1: 12x12 nodes per feature map, 32 feature maps\n",
    "# Conv layer 2: 8x8 nodes per feature map, 48 feature maps\n",
    "# Max pooling 2: 4x4 nodes per feature map, 48 feature maps\n",
    "input_height = 28\n",
    "conv1_height = (input_height - 5 + 2*0) + 1\n",
    "pool1_height = conv1_height / 2\n",
    "conv2_height = (pool1_height - 5 + 2*0) + 1 #TODO\n",
    "pool2_height = conv2_height / 2 #TODO"
   ]
  },
  {
   "cell_type": "markdown",
   "metadata": {},
   "source": [
    "We will [flatten](https://www.tensorflow.org/api_docs/python/tf/layers/flatten) the final feature maps before feeding as input into the first fully connected layer:"
   ]
  },
  {
   "cell_type": "code",
   "execution_count": null,
   "metadata": {},
   "outputs": [],
   "source": [
    "flat = tf.layers.flatten(pool2)"
   ]
  },
  {
   "cell_type": "markdown",
   "metadata": {},
   "source": [
    "The first fully connected layer will have 512 units and ReLU activation. We can then pass on its output as input to the final fully connected layer and output class probabilities:"
   ]
  },
  {
   "cell_type": "code",
   "execution_count": null,
   "metadata": {},
   "outputs": [],
   "source": [
    "# pass flattened input into the first fully connected layer\n",
    "fc1 = tf.layers.dense(inputs=flat, units=512, activation=tf.nn.relu)\n",
    "# define second fully connected layer for 0-9 digit classification\n",
    "'''TODO: define the second fully connected layer. Think about the number of units you need.'''\n",
    "y_pred = tf.layers.dense(inputs=fc1, units=10) \n",
    "\n",
    "# output probabilities of input image belonging to each digit class\n",
    "'''TODO: compute output probabilities for the predicted labels. What activation function should you use?'''\n",
    "probabilities = tf.nn.softmax(y_pred)"
   ]
  },
  {
   "cell_type": "markdown",
   "metadata": {},
   "source": [
    "That defines our model! Now we can move on to defining the loss function we will optimize during training and the training itself."
   ]
  },
  {
   "cell_type": "markdown",
   "metadata": {},
   "source": [
    "### 1.2.2 Loss Function and Class Prediction"
   ]
  },
  {
   "cell_type": "markdown",
   "metadata": {},
   "source": [
    "We can use mean cross entropy as our loss function as this is a multi-class classification problem:"
   ]
  },
  {
   "cell_type": "code",
   "execution_count": null,
   "metadata": {},
   "outputs": [],
   "source": [
    "# calculate mean cross entropy over entire batch of samples. \n",
    "'''TODO: write a TensorFlow expression for computing the mean cross entropy loss over the entire batch of samples.\n",
    "Hint: consider tf.nn.softmax_cross_entropy_with_logits_v2 and pay close attention to the logits input!'''\n",
    "cross_entropy = tf.reduce_mean(tf.nn.softmax_cross_entropy_with_logits_v2(labels=y, logits=y_pred))"
   ]
  },
  {
   "cell_type": "markdown",
   "metadata": {},
   "source": [
    "Next, we specify the optimizer (Adam) and the learning rate (`1e-3`). We also calculate the average accuracy."
   ]
  },
  {
   "cell_type": "code",
   "execution_count": null,
   "metadata": {},
   "outputs": [],
   "source": [
    "optimizer = tf.train.AdamOptimizer(1e-3).minimize(cross_entropy)\n",
    "correct_prediction = tf.equal(tf.argmax(y_pred, 1), tf.argmax(y, 1))\n",
    "accuracy = tf.reduce_mean(tf.cast(correct_prediction, tf.float32))"
   ]
  },
  {
   "cell_type": "markdown",
   "metadata": {},
   "source": [
    "Finally, we obtain the predicted class:"
   ]
  },
  {
   "cell_type": "code",
   "execution_count": null,
   "metadata": {},
   "outputs": [],
   "source": [
    "prediction=tf.argmax(y_pred,1)"
   ]
  },
  {
   "cell_type": "markdown",
   "metadata": {},
   "source": [
    "**Tensorboard** is a tool to automatically plot and visualize the training process. You can periodically send \"summaries\" such as: \n",
    "* scalars (loss, accuracy, ...)\n",
    "* images (photos, heatmaps, ...)\n",
    "* distributions (weights, biases, activations, ...)\n",
    "\n",
    "Let's set some simple scalar summaries to be plotted on Tensorboard (http://localhost:6006) - the plotting code below occurs during training."
   ]
  },
  {
   "cell_type": "code",
   "execution_count": null,
   "metadata": {},
   "outputs": [],
   "source": [
    "tf.summary.scalar('loss',cross_entropy) \n",
    "tf.summary.scalar('acc',accuracy)\n",
    "\n",
    "merged_summary_op = tf.summary.merge_all() #combine into a single summary which we can run on Tensorboard"
   ]
  },
  {
   "cell_type": "markdown",
   "metadata": {},
   "source": [
    "### 1.2.3 Training!"
   ]
  },
  {
   "cell_type": "markdown",
   "metadata": {},
   "source": [
    "Now that we have defined our network architecture and optimization criteria, we are ready to train and evaluate our CNN on the MNIST dataset! \n",
    "\n",
    "For this, we create an instance of `tf.Session()`, and initialize variables within the session. We set the number of iterations for optimization to 200. Additionally, we will plot the evolution of performance (accuracy) over the course of training and the final [confusion matrix](https://en.wikipedia.org/wiki/Confusion_matrix)."
   ]
  },
  {
   "cell_type": "code",
   "execution_count": null,
   "metadata": {
    "scrolled": true
   },
   "outputs": [],
   "source": [
    "import uuid\n",
    "num_iterations = 200\n",
    "with tf.Session() as sess:\n",
    "    sess.run(tf.global_variables_initializer())\n",
    "    uniq_id = \"./logs/lab2part1_\"+uuid.uuid1().__str__()[:6]\n",
    "    summary_writer = tf.summary.FileWriter(uniq_id, graph=tf.get_default_graph())\n",
    "    training_perf = []\n",
    "    for i in tqdm.tqdm(range(num_iterations)):\n",
    "        batch = mnist.train.next_batch(50)\n",
    "\n",
    "        feed_dict = {x: batch[0], y: batch[1]}\n",
    "        (_, train_accuracy, summary) = sess.run([optimizer,accuracy, merged_summary_op], feed_dict=feed_dict)\n",
    "        training_perf.append(train_accuracy)\n",
    "        summary_writer.add_summary(summary, i) \n",
    "\n",
    "    # now plotting the variation of training performance\n",
    "    plt.plot(range(num_iterations), training_perf)\n",
    "    plt.show()\n",
    "    \n",
    "    # we now evaluate the validation accuracy\n",
    "    print('Validation accuracy: %g' % accuracy.eval(feed_dict={x: mnist.test.images, y: mnist.test.labels}))\n",
    "    \n",
    "    # we now plot the confusion matrix on the validation accuracy\n",
    "    preds = prediction.eval(feed_dict={x: mnist.test.images})\n",
    "    conf_mat = tf.contrib.metrics.confusion_matrix(labels=tf.argmax(mnist.test.labels,1), predictions=preds, num_classes=10)\n",
    "    plt.imshow(conf_mat.eval())"
   ]
  },
  {
   "cell_type": "code",
   "execution_count": null,
   "metadata": {
    "scrolled": true
   },
   "outputs": [],
   "source": [
    "!tensorboard --logdir=./logs"
   ]
  },
  {
   "cell_type": "markdown",
   "metadata": {},
   "source": [
    "The code above trains the model and print the accuracy on the test set at the end of optimization. This network should produce an accuracy of ~95%. To increase this value, you can try applying some of the techniques you learned in Lecture 1, such as:\n",
    "\n",
    "- Using dropout in the first fully connected layer (hint: use `tf.nn.dropout` and select a good value of the dropout ratio).\n",
    "- Adding extra layers to the network, and tuning the hyperparameters of the network architecture (i.e., number and dimension of filters).\n",
    "- Decreasing the learning rate as training progresses."
   ]
  }
 ],
 "metadata": {
  "kernelspec": {
   "display_name": "Python 2",
   "language": "python",
   "name": "python2"
  },
  "language_info": {
   "codemirror_mode": {
    "name": "ipython",
    "version": 2
   },
   "file_extension": ".py",
   "mimetype": "text/x-python",
   "name": "python",
   "nbconvert_exporter": "python",
   "pygments_lexer": "ipython2",
   "version": "2.7.12"
  }
 },
 "nbformat": 4,
 "nbformat_minor": 2
}
