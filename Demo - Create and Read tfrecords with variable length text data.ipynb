{
 "cells": [
  {
   "cell_type": "code",
   "execution_count": 1,
   "metadata": {},
   "outputs": [
    {
     "name": "stderr",
     "output_type": "stream",
     "text": [
      "/home/ubuntu/miniconda3/envs/venv/lib/python3.6/site-packages/h5py/__init__.py:36: FutureWarning: Conversion of the second argument of issubdtype from `float` to `np.floating` is deprecated. In future, it will be treated as `np.float64 == np.dtype(float).type`.\n",
      "  from ._conv import register_converters as _register_converters\n",
      "Using TensorFlow backend.\n"
     ]
    }
   ],
   "source": [
    "import tensorflow as tf\n",
    "from keras.preprocessing.text import text_to_word_sequence"
   ]
  },
  {
   "cell_type": "code",
   "execution_count": 2,
   "metadata": {},
   "outputs": [],
   "source": [
    "def get_lines(fname):\n",
    "    with open(fname, \"rt\") as f:\n",
    "        return f.read().splitlines()"
   ]
  },
  {
   "cell_type": "code",
   "execution_count": 3,
   "metadata": {},
   "outputs": [],
   "source": [
    "def to_bytearray_feature(value):\n",
    "    return tf.train.Feature(bytes_list=tf.train.BytesList(value=[bytes(value, \"utf8\")]))\n",
    "def wrap_float_value(value):\n",
    "    return tf.train.Feature(float_list=tf.train.FloatList(value=[value]))"
   ]
  },
  {
   "cell_type": "code",
   "execution_count": 4,
   "metadata": {},
   "outputs": [],
   "source": [
    "train_user_lines = get_lines(\"data/train_u_reviews.txt\")\n",
    "train_item_lines = get_lines(\"data/train_i_reviews.txt\")\n",
    "train_ratings = get_lines(\"data/train_ratings.txt\")"
   ]
  },
  {
   "cell_type": "code",
   "execution_count": 5,
   "metadata": {},
   "outputs": [],
   "source": [
    "tfrecords_filename = \"data/demo.tfrecords\"\n",
    "writer = tf.python_io.TFRecordWriter(tfrecords_filename)\n",
    "\n",
    "for user, item, rating in zip(train_user_lines, train_item_lines, train_ratings):\n",
    "    example = tf.train.Example(\n",
    "        features=tf.train.Features(\n",
    "            feature={\n",
    "                'user_review': to_bytearray_feature(user),\n",
    "                'item_review': to_bytearray_feature(item),\n",
    "                'rating': wrap_float_value(float(rating))\n",
    "            }\n",
    "        )\n",
    "    )\n",
    "    \n",
    "    writer.write(example.SerializeToString())"
   ]
  },
  {
   "cell_type": "code",
   "execution_count": 6,
   "metadata": {},
   "outputs": [],
   "source": [
    "def parse_fn(record):\n",
    "    features = {\n",
    "            \"user_review\": tf.FixedLenSequenceFeature([], tf.string, allow_missing=True),\n",
    "            \"item_review\": tf.FixedLenSequenceFeature([], tf.string, allow_missing=True),\n",
    "            \"rating\": tf.FixedLenFeature([1], tf.float32)\n",
    "        }\n",
    "    parsed_features = tf.parse_single_example(record, features)\n",
    "    return parsed_features[\"user_review\"], parsed_features[\"item_review\"], parsed_features[\"rating\"]"
   ]
  },
  {
   "cell_type": "code",
   "execution_count": 7,
   "metadata": {},
   "outputs": [],
   "source": [
    "def split_fn(user, item, rating):\n",
    "    user = tf.string_split(user)\n",
    "    item = tf.string_split(item)\n",
    "    return user.values, item.values, rating"
   ]
  },
  {
   "cell_type": "code",
   "execution_count": 19,
   "metadata": {},
   "outputs": [],
   "source": [
    "def truncate_fn(user, item, rating):\n",
    "    return user[:400], item[:400], rating"
   ]
  },
  {
   "cell_type": "code",
   "execution_count": 30,
   "metadata": {},
   "outputs": [
    {
     "data": {
      "text/plain": [
       "array([[b'i', b'really', b'like', ..., b'unk', b'unk', b'unk'],\n",
       "       [b'this', b'is', b'one', ..., b'unk', b'unk', b'unk'],\n",
       "       [b'i', b'watched', b'this', ..., b'unk', b'unk', b'unk'],\n",
       "       ...,\n",
       "       [b'enjoyed', b'some', b'of', ..., b'unk', b'unk', b'unk'],\n",
       "       [b'loved', b'season', b'2', ..., b'direction', b'less', b'so'],\n",
       "       [b'his', b'shows', b'are', ..., b'unk', b'unk', b'unk']],\n",
       "      dtype=object)"
      ]
     },
     "execution_count": 30,
     "metadata": {},
     "output_type": "execute_result"
    }
   ],
   "source": [
    "dataset = tf.data.TFRecordDataset(\"data/demo.tfrecords\")\n",
    "dataset = dataset.map(parse_fn)\n",
    "dataset = dataset.map(split_fn)\n",
    "dataset = dataset.map(truncate_fn)\n",
    "dataset = dataset.padded_batch(16, padded_shapes=([400], [400], [None]), padding_values=(\"unk\", \"unk\", 0.0))\n",
    "iterator = dataset.make_one_shot_iterator()\n",
    "data_point = iterator.get_next()\n",
    "data_point[0].eval(session=tf.Session())"
   ]
  }
 ],
 "metadata": {
  "kernelspec": {
   "display_name": "Python 3",
   "language": "python",
   "name": "python3"
  },
  "language_info": {
   "codemirror_mode": {
    "name": "ipython",
    "version": 3
   },
   "file_extension": ".py",
   "mimetype": "text/x-python",
   "name": "python",
   "nbconvert_exporter": "python",
   "pygments_lexer": "ipython3",
   "version": "3.6.5"
  }
 },
 "nbformat": 4,
 "nbformat_minor": 2
}
